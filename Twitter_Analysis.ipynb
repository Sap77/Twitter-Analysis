{
  "nbformat": 4,
  "nbformat_minor": 0,
  "metadata": {
    "colab": {
      "name": "Twitter_Analysis.ipynb",
      "provenance": [],
      "collapsed_sections": [],
      "authorship_tag": "ABX9TyOrhkPHAFuKm7TKDUMHxwvT",
      "include_colab_link": true
    },
    "kernelspec": {
      "name": "python3",
      "display_name": "Python 3"
    },
    "language_info": {
      "name": "python"
    }
  },
  "cells": [
    {
      "cell_type": "markdown",
      "metadata": {
        "id": "view-in-github",
        "colab_type": "text"
      },
      "source": [
        "<a href=\"https://colab.research.google.com/github/Sap77/Twitter-Analysis/blob/main/Twitter_Analysis.ipynb\" target=\"_parent\"><img src=\"https://colab.research.google.com/assets/colab-badge.svg\" alt=\"Open In Colab\"/></a>"
      ]
    },
    {
      "cell_type": "code",
      "execution_count": 14,
      "metadata": {
        "id": "YsgjbBUIZgXh"
      },
      "outputs": [],
      "source": [
        "import logging\n",
        "import tweepy as tw"
      ]
    },
    {
      "cell_type": "code",
      "source": [
        "from logging.handlers import RotatingFileHandler"
      ],
      "metadata": {
        "id": "MAFn_fWnZiWf"
      },
      "execution_count": 15,
      "outputs": []
    },
    {
      "cell_type": "code",
      "source": [
        "consumer_key= 'okn9j53dEvpzupXoSNXcX3bhx'\n",
        "consumer_secret= 'W88IWRH5GRgXxfUA6iSxzWiQ6q0SSadosGWyzBLruCLGC6veMY'\n",
        "access_token= '1463053752957476876-DtLK6QoLbLglUBG4jdJ0wkU91xtR7J'\n",
        "access_token_secret= 'jXW6HXnXV0JMz4gXJOLvGGwp7JA4mAozOqsSftfpymXRt'"
      ],
      "metadata": {
        "id": "EtJThCEZZi8B"
      },
      "execution_count": 18,
      "outputs": []
    },
    {
      "cell_type": "code",
      "source": [
        "auth = tw.OAuthHandler(consumer_key, consumer_secret)\n",
        "auth.set_access_token(access_token, access_token_secret)\n",
        "api = tw.API(auth, wait_on_rate_limit=True)"
      ],
      "metadata": {
        "id": "RSGO-GaRZjC5"
      },
      "execution_count": 19,
      "outputs": []
    },
    {
      "cell_type": "code",
      "source": [
        "#takes keyword as input and find recent tweets\n",
        "keyword = input(\"Please enter keyword or hashtag to search: \")\n",
        "noOfTweet = int(input (\"Please enter how many tweets to analyze: \"))\n",
        "tweets = tw.Cursor(api.search, q=keyword).items(noOfTweet)"
      ],
      "metadata": {
        "colab": {
          "base_uri": "https://localhost:8080/"
        },
        "id": "lCAMXU3uZjI-",
        "outputId": "41d5ba6e-7dc1-4503-fb3d-9488fe8ccb8d"
      },
      "execution_count": 20,
      "outputs": [
        {
          "name": "stdout",
          "output_type": "stream",
          "text": [
            "Please enter keyword or hashtag to search: cryptocurrency\n",
            "Please enter how many tweets to analyze: 100000\n"
          ]
        }
      ]
    },
    {
      "cell_type": "code",
      "source": [
        "# Iterate and print tweets\n",
        "for tweet in tweets:\n",
        "    print(tweet._json)"
      ],
      "metadata": {
        "id": "uQ7WudjsAJ-j"
      },
      "execution_count": null,
      "outputs": []
    },
    {
      "cell_type": "code",
      "source": [
        "#store the raw data in log files\n",
        "logger = logging.getLogger('my_logger')\n",
        "logger.setLevel(logging.DEBUG)\n",
        "handler = RotatingFileHandler(filename='tweet.log', maxBytes=5000000, backupCount=10)\n",
        "logger.addHandler(handler)\n",
        "for i in tw.Cursor(api.search,q=keyword,tweet_mode=\"extended\").items(noOfTweet):\n",
        "    logger.debug(i._json)\n"
      ],
      "metadata": {
        "id": "MjY7zhxHZjPW"
      },
      "execution_count": null,
      "outputs": []
    },
    {
      "cell_type": "code",
      "source": [
        ""
      ],
      "metadata": {
        "id": "wPWv5vRqZlbU"
      },
      "execution_count": null,
      "outputs": []
    },
    {
      "cell_type": "code",
      "source": [
        ""
      ],
      "metadata": {
        "id": "23jFpHM8Zlnq"
      },
      "execution_count": null,
      "outputs": []
    },
    {
      "cell_type": "code",
      "source": [
        ""
      ],
      "metadata": {
        "id": "yXE7NlHGDywb"
      },
      "execution_count": null,
      "outputs": []
    },
    {
      "cell_type": "code",
      "source": [
        ""
      ],
      "metadata": {
        "id": "EZ8aKbD7DzEz"
      },
      "execution_count": null,
      "outputs": []
    },
    {
      "cell_type": "code",
      "source": [
        ""
      ],
      "metadata": {
        "id": "N9ZA5OLuD0Fr"
      },
      "execution_count": null,
      "outputs": []
    },
    {
      "cell_type": "code",
      "source": [
        ""
      ],
      "metadata": {
        "id": "bI6cPjeeD0Us"
      },
      "execution_count": null,
      "outputs": []
    }
  ]
}
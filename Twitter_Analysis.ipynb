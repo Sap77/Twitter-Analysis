{
  "cells": [
    {
      "cell_type": "markdown",
      "metadata": {
        "colab_type": "text",
        "id": "view-in-github"
      },
      "source": [
        "<a href=\"https://colab.research.google.com/github/Sap77/Twitter-Analysis/blob/main/Twitter_Analysis.ipynb\" target=\"_parent\"><img src=\"https://colab.research.google.com/assets/colab-badge.svg\" alt=\"Open In Colab\"/></a>"
      ]
    },
    {
      "cell_type": "code",
      "execution_count": 14,
      "metadata": {
        "id": "YsgjbBUIZgXh"
      },
      "outputs": [],
      "source": [
        "import logging\n",
        "import tweepy as tw"
      ]
    },
    {
      "cell_type": "code",
      "execution_count": 15,
      "metadata": {
        "id": "MAFn_fWnZiWf"
      },
      "outputs": [],
      "source": [
        "from logging.handlers import RotatingFileHandler"
      ]
    },
    {
      "cell_type": "code",
      "execution_count": 18,
      "metadata": {
        "id": "EtJThCEZZi8B"
      },
      "outputs": [],
      "source": [
        "consumer_key= 'okn9j53dEvpzupXoSNXcX3bhx'\n",
        "consumer_secret= 'W88IWRH5GRgXxfUA6iSxzWiQ6q0SSadosGWyzBLruCLGC6veMY'\n",
        "access_token= '1463053752957476876-DtLK6QoLbLglUBG4jdJ0wkU91xtR7J'\n",
        "access_token_secret= 'jXW6HXnXV0JMz4gXJOLvGGwp7JA4mAozOqsSftfpymXRt'"
      ]
    },
    {
      "cell_type": "code",
      "execution_count": 19,
      "metadata": {
        "id": "RSGO-GaRZjC5"
      },
      "outputs": [],
      "source": [
        "auth = tw.OAuthHandler(consumer_key, consumer_secret)\n",
        "auth.set_access_token(access_token, access_token_secret)\n",
        "api = tw.API(auth, wait_on_rate_limit=True)"
      ]
    },
    {
      "cell_type": "code",
      "execution_count": 20,
      "metadata": {
        "colab": {
          "base_uri": "https://localhost:8080/"
        },
        "id": "lCAMXU3uZjI-",
        "outputId": "41d5ba6e-7dc1-4503-fb3d-9488fe8ccb8d"
      },
      "outputs": [
        {
          "name": "stdout",
          "output_type": "stream",
          "text": [
            "Please enter keyword or hashtag to search: cryptocurrency\n",
            "Please enter how many tweets to analyze: 100000\n"
          ]
        }
      ],
      "source": [
        "#takes keyword as input and find recent tweets\n",
        "keyword = input(\"Please enter keyword or hashtag to search: \")\n",
        "noOfTweet = int(input (\"Please enter how many tweets to analyze: \"))\n",
        "tweets = tw.Cursor(api.search, q=keyword).items(noOfTweet)"
      ]
    },
    {
      "cell_type": "code",
      "execution_count": null,
      "metadata": {
        "id": "uQ7WudjsAJ-j"
      },
      "outputs": [],
      "source": [
        "# Iterate and print tweets\n",
        "for tweet in tweets:\n",
        "    print(tweet._json)"
      ]
    },
    {
      "cell_type": "code",
      "execution_count": null,
      "metadata": {
        "id": "MjY7zhxHZjPW"
      },
      "outputs": [],
      "source": [
        "#store the raw data in log files\n",
        "logger = logging.getLogger('my_logger')\n",
        "logger.setLevel(logging.DEBUG)\n",
        "handler = RotatingFileHandler(filename='tweet.log', maxBytes=5000000, backupCount=10)\n",
        "logger.addHandler(handler)\n",
        "for i in tw.Cursor(api.search,q=keyword,tweet_mode=\"extended\").items(noOfTweet):\n",
        "    logger.debug(i._json)\n"
      ]
    },
    {
      "cell_type": "code",
      "execution_count": null,
      "metadata": {
        "id": "wPWv5vRqZlbU"
      },
      "outputs": [],
      "source": []
    },
    {
      "cell_type": "code",
      "execution_count": null,
      "metadata": {
        "id": "23jFpHM8Zlnq"
      },
      "outputs": [],
      "source": []
    },
    {
      "cell_type": "code",
      "execution_count": null,
      "metadata": {
        "id": "yXE7NlHGDywb"
      },
      "outputs": [],
      "source": []
    },
    {
      "cell_type": "code",
      "execution_count": null,
      "metadata": {
        "id": "EZ8aKbD7DzEz"
      },
      "outputs": [],
      "source": []
    },
    {
      "cell_type": "code",
      "execution_count": null,
      "metadata": {
        "id": "N9ZA5OLuD0Fr"
      },
      "outputs": [],
      "source": []
    },
    {
      "cell_type": "code",
      "execution_count": null,
      "metadata": {
        "id": "bI6cPjeeD0Us"
      },
      "outputs": [],
      "source": []
    }
  ],
  "metadata": {
    "colab": {
      "authorship_tag": "ABX9TyOrhkPHAFuKm7TKDUMHxwvT",
      "collapsed_sections": [],
      "include_colab_link": true,
      "name": "Twitter_Analysis.ipynb",
      "provenance": []
    },
    "kernelspec": {
      "display_name": "Python 3",
      "name": "python3"
    },
    "language_info": {
      "codemirror_mode": {
        "name": "ipython",
        "version": 3
      },
      "file_extension": ".py",
      "mimetype": "text/x-python",
      "name": "python",
      "nbconvert_exporter": "python",
      "pygments_lexer": "ipython3",
      "version": "3.9.8"
    }
  },
  "nbformat": 4,
  "nbformat_minor": 0
}
